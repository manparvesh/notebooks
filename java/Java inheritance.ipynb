{
 "cells": [
  {
   "cell_type": "markdown",
   "metadata": {},
   "source": [
    "# Inheritance"
   ]
  },
  {
   "cell_type": "markdown",
   "metadata": {},
   "source": [
    "- Adoption of all non-private properties and methods of one class (called `superclass`) by another class (`subclass`).\n",
    "- It's like a copy of an existing class as the starting point for another.\n",
    "- Inherited classes are also called `derived` classes."
   ]
  },
  {
   "cell_type": "markdown",
   "metadata": {},
   "source": [
    "#### Inheritance vs interfaces\n",
    "- Interfaces define only structure of the class members while inherited classes contain the actual code from their super classes.\n",
    "- Inheritance uses `extends` keyword, whereas interfaces use `implements`.\n",
    "- There is no effective limit to the number of inheritance levels that can be achieved using inheritance."
   ]
  },
  {
   "cell_type": "markdown",
   "metadata": {},
   "source": []
  }
 ],
 "metadata": {
  "kernelspec": {
   "display_name": "SciJava",
   "language": "groovy",
   "name": "scijava"
  },
  "language_info": {
   "codemirror_mode": "groovy",
   "file_extension": "",
   "mimetype": "",
   "name": "scijava",
   "nbconverter_exporter": "",
   "pygments_lexer": "groovy",
   "version": "1.0"
  }
 },
 "nbformat": 4,
 "nbformat_minor": 2
}
