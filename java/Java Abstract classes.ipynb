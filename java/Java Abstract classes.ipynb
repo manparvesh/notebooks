{
 "cells": [
  {
   "cell_type": "markdown",
   "metadata": {},
   "source": [
    "# Abstract classes in Java"
   ]
  },
  {
   "cell_type": "markdown",
   "metadata": {},
   "source": [
    "- An abstract class is a class which has `abstract` keyword prefixed to it.\n",
    "- A class must be prefixed with `abstract` if it has one or more methods with abstract keyword.\n",
    "- An abstract method is only declared, not implemented.\n",
    "- This class can't be instantiated, but can be inherited by another class.\n",
    "- The inheriting class must implement all the abstract methods, or else the subclass should also be declared as an abstract class."
   ]
  },
  {
   "cell_type": "markdown",
   "metadata": {},
   "source": [
    "Example:"
   ]
  },
  {
   "cell_type": "markdown",
   "metadata": {},
   "source": [
    "```java\n",
    "abstract class AbstractClass{\n",
    "    abstract void abstractMethod();\n",
    "    void concreteMethod(){\n",
    "        System.out.println(\"This is a concrete method\");\n",
    "    }\n",
    "}\n",
    "```"
   ]
  },
  {
   "cell_type": "markdown",
   "metadata": {},
   "source": [
    "### Abstract classes vs interfaces\n",
    "Abstract classes contain fields which are not `final` and `static`, and can contain implemented methods as well but interfaces cannot. Abstract classes with only abstract methods should also be defined as interfaces."
   ]
  },
  {
   "cell_type": "markdown",
   "metadata": {},
   "source": [
    "When an abstract class implements an interface, not all interface methods need to be implemented, if the class is not abstract, all the interface methods should be implemented."
   ]
  },
  {
   "cell_type": "markdown",
   "metadata": {},
   "source": [
    "```java\n",
    "abstract class X implements Y{\n",
    "    // implements all but one method of Y\n",
    "}\n",
    "\n",
    "class XX extends X{\n",
    "    // implements the remaining method in Y\n",
    "}\n",
    "```"
   ]
  }
 ],
 "metadata": {
  "kernelspec": {
   "display_name": "SciJava",
   "language": "groovy",
   "name": "scijava"
  },
  "language_info": {
   "codemirror_mode": "groovy",
   "file_extension": "",
   "mimetype": "",
   "name": "scijava",
   "nbconverter_exporter": "",
   "pygments_lexer": "groovy",
   "version": "1.0"
  }
 },
 "nbformat": 4,
 "nbformat_minor": 2
}
