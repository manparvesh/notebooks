{
 "cells": [
  {
   "cell_type": "markdown",
   "metadata": {},
   "source": [
    "# Understanding Tensorflow"
   ]
  },
  {
   "cell_type": "code",
   "execution_count": 1,
   "metadata": {},
   "outputs": [
    {
     "name": "stderr",
     "output_type": "stream",
     "text": [
      "C:\\ProgramData\\Anaconda3\\lib\\site-packages\\h5py\\__init__.py:36: FutureWarning: Conversion of the second argument of issubdtype from `float` to `np.floating` is deprecated. In future, it will be treated as `np.float64 == np.dtype(float).type`.\n",
      "  from ._conv import register_converters as _register_converters\n"
     ]
    }
   ],
   "source": [
    "import tensorflow as tf\n",
    "%matplotlib inline"
   ]
  },
  {
   "cell_type": "code",
   "execution_count": 2,
   "metadata": {},
   "outputs": [
    {
     "data": {
      "text/plain": [
       "9.0"
      ]
     },
     "execution_count": 2,
     "metadata": {},
     "output_type": "execute_result"
    }
   ],
   "source": [
    "a = tf.placeholder(\"float\")\n",
    "b = tf.placeholder(\"float\")\n",
    "\n",
    "y = tf.multiply(a, b)\n",
    "\n",
    "sess = tf.Session()\n",
    "sess.run(y, feed_dict={a:3, b:3})"
   ]
  },
  {
   "cell_type": "markdown",
   "metadata": {},
   "source": [
    "|Operation | Description |\n",
    "| --- | --- |\n",
    "| tf.add | sum |\n",
    "| tf.sub | substraction |\n",
    "| tf.mul | multiplication |\n",
    "| tf.div | division |\n",
    "| tf.mod | module |\n",
    "| tf.abs | return the absolute value |\n",
    "| tf.neg | return negative value |\n",
    "| tf.sign | return the sign |\n",
    "| tf.inv | returns the inverse |\n",
    "| tf.square | calculates the square |\n",
    "| tf.round | returns the nearest integer |\n",
    "| tf.sqrt | calculates the square root |\n",
    "| tf.pow | calculates the power |\n",
    "| tf.exp | calculates the exponential |\n",
    "| tf.log | calculates the logarithm |\n",
    "| tf.maximum | returns the maximum |\n",
    "| tf.minimum | returns the minimum |\n",
    "| tf.cos | calculates the cosine |\n",
    "| tf.sin | calculates the sine |\n",
    "\n",
    "#### Matrix operations\n",
    "|Operation | Description |\n",
    "| --- | --- |\n",
    "| tf.diag | returns a diagonal tensor with a given diagonal values |\n",
    "| tf.transpose | returns the transposes of the argument |\n",
    "| tf.matmul | returns a tensor product of multiplying two tensors listed as arguments |\n",
    "| tf.matrix_determinant | returns the determinant of the square matrix specified as an argument |\n",
    "| tf.matrix_inverse | returns the inverse of the square matrix specified as an argument |\n",
    "\n",
    "#### Operation groups\n",
    "| Operations groups | Operations |\n",
    "| --- | --- |\n",
    "| Maths | Add, Sub, Mul, Div, Exp, Log, Greater, Less, Equal |\n",
    "| Array | Concat, Slice, Split, Constant, Rank, Shape, Shuffle |\n",
    "| Matrix | MatMul, MatrixInverse, MatrixDeterminant |\n",
    "| Neuronal Network | SoftMax, Sigmoid, ReLU, Convolution2D, MaxPool |\n",
    "| Checkpointing | Save, Restore |\n",
    "| Queues and syncronizations | Enqueue, Dequeue, MutexAcquire, MutexRelease |\n",
    "| Flow control | Merge, Switch, Enter, Leave, NextIteration |"
   ]
  }
 ],
 "metadata": {
  "kernelspec": {
   "display_name": "Python 3",
   "language": "python",
   "name": "python3"
  },
  "language_info": {
   "codemirror_mode": {
    "name": "ipython",
    "version": 3
   },
   "file_extension": ".py",
   "mimetype": "text/x-python",
   "name": "python",
   "nbconvert_exporter": "python",
   "pygments_lexer": "ipython3",
   "version": "3.6.3"
  }
 },
 "nbformat": 4,
 "nbformat_minor": 2
}
